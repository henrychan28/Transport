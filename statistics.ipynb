{
 "cells": [
  {
   "cell_type": "code",
   "execution_count": 2,
   "metadata": {},
   "outputs": [],
   "source": [
    "import numpy as np\n",
    "from scipy import stats\n",
    "from __future__ import division"
   ]
  },
  {
   "cell_type": "code",
   "execution_count": 3,
   "metadata": {},
   "outputs": [],
   "source": [
    "def pooledSampleVariance(x, y):\n",
    "    return (((x-x.mean())**2).sum()+((y-y.mean())**2).sum())/(len(x)+len(y)-2)"
   ]
  },
  {
   "cell_type": "code",
   "execution_count": 4,
   "metadata": {},
   "outputs": [],
   "source": [
    "#Assumption - the variance of two distribution are the same\n",
    "def twoSampleTTest(x, y):\n",
    "    Sp2 = pooledSampleVariance(x, y)\n",
    "    m = len(x)\n",
    "    n = len(y)\n",
    "    T = (x.mean()-y.mean())/(np.sqrt(Sp2/m+Sp2/n))\n",
    "    pValue = stats.t.cdf(T, m+n-2)\n",
    "    return T, pValue"
   ]
  },
  {
   "cell_type": "code",
   "execution_count": 5,
   "metadata": {},
   "outputs": [],
   "source": [
    "def sampleVariance(x):\n",
    "    return ((x-x.mean())**2).sum()/(len(x)-1)"
   ]
  },
  {
   "cell_type": "code",
   "execution_count": 6,
   "metadata": {},
   "outputs": [],
   "source": [
    "#Assumption - the variance of two sample might not be the same\n",
    "def welchTTest(x,y):\n",
    "    sx2 = sampleVariance(x)\n",
    "    sy2 = sampleVariance(y)\n",
    "    n = len(x)\n",
    "    m = len(y)\n",
    "    df = (sx2/n+sy2/m)**2/((sx2/n)**2/(n-1)+(sy2/m)**2/(m-1))\n",
    "    T = (x.mean()-y.mean())/np.sqrt(sx2/n + sy2/m)\n",
    "    pValue = stats.t.cdf(T, df)\n",
    "    return T, pValue"
   ]
  },
  {
   "cell_type": "code",
   "execution_count": 18,
   "metadata": {},
   "outputs": [],
   "source": [
    "def oneSampleTTest(x,y=0):\n",
    "    z = x-y\n",
    "    s2 = ((x-x.mean())**2).sum()/(len(z)-1)\n",
    "    T = (z.mean()*np.sqrt(len(z)))/np.sqrt(s2)\n",
    "    pValue = stats.t.cdf(T, len(z)-1)\n",
    "    return T, pValue\n",
    "    "
   ]
  },
  {
   "cell_type": "code",
   "execution_count": 45,
   "metadata": {},
   "outputs": [],
   "source": [
    "def wilconxonSignedRankTest(x, y=0):\n",
    "    z = x-y\n",
    "    positiveFilter = np.vectorize(lambda x: 1 if x > 0 else 0)(z)\n",
    "    wPlus = (np.argsort(x)*positiveFilter).sum()\n",
    "    zScore = (Wplus-(n*(n+1))/4)*np.sqrt(24/(n*(n+1)*(2*n+1)))\n",
    "    pValue = stats.norm.cdf(zScore)\n",
    "    return zScore, pValue"
   ]
  },
  {
   "cell_type": "code",
   "execution_count": 50,
   "metadata": {},
   "outputs": [],
   "source": [
    "def wilconxonRankSumTest(x,y):\n",
    "    mask = np.append(np.repeat(0, len(x)), np.repeat(1, len(y)))\n",
    "    z = np.append(x, y)\n",
    "    Ty = (np.argsort(z)*mask).sum()\n",
    "    n = len(x)\n",
    "    m = len(y)\n",
    "    zScore = (Ty-(m*(m+n+1)/2))/np.sqrt(m*n*(m+n+1)/12)\n",
    "    pValue = stats.norm.cdf(zScore)\n",
    "    return zScore, pValue"
   ]
  },
  {
   "cell_type": "code",
   "execution_count": 51,
   "metadata": {},
   "outputs": [],
   "source": [
    "def winRate(x, y):\n",
    "    z = x-y\n",
    "    return (z>0).mean()"
   ]
  },
  {
   "cell_type": "code",
   "execution_count": 54,
   "metadata": {},
   "outputs": [
    {
     "data": {
      "text/plain": [
       "0.5"
      ]
     },
     "execution_count": 54,
     "metadata": {},
     "output_type": "execute_result"
    }
   ],
   "source": [
    "a = np.array([1,2,3,4,5,1])\n",
    "b = np.array([0,3,2,5,4,2])\n",
    "winRate(a, b)"
   ]
  },
  {
   "cell_type": "code",
   "execution_count": 60,
   "metadata": {},
   "outputs": [
    {
     "name": "stdout",
     "output_type": "stream",
     "text": [
      "Email sent!\n"
     ]
    }
   ],
   "source": [
    "import smtplib\n",
    "\n",
    "gmail_user = ''  \n",
    "gmail_password = ''\n",
    "\n",
    "sent_from = gmail_user  \n",
    "to = ['wkchanaj@connect.ust.hk']  \n",
    "subject = 'AQPO System Alert - Validation Report'  \n",
    "body = 'AQPO System Alert - Validation Report'\n",
    "\n",
    "email_text = \"\"\"\n",
    "\n",
    "\"\"\"\n",
    "\n",
    "try:  \n",
    "    server = smtplib.SMTP_SSL('smtp.gmail.com', 465)\n",
    "    server.ehlo()\n",
    "    server.login(gmail_user, gmail_password)\n",
    "    server.sendmail(sent_from, to, email_text)\n",
    "    server.close()\n",
    "\n",
    "    print 'Email sent!'\n",
    "except:  \n",
    "    print 'Something went wrong...'"
   ]
  }
 ],
 "metadata": {
  "kernelspec": {
   "display_name": "Python [conda env:py27]",
   "language": "python",
   "name": "conda-env-py27-py"
  },
  "language_info": {
   "codemirror_mode": {
    "name": "ipython",
    "version": 2
   },
   "file_extension": ".py",
   "mimetype": "text/x-python",
   "name": "python",
   "nbconvert_exporter": "python",
   "pygments_lexer": "ipython2",
   "version": "2.7.15"
  }
 },
 "nbformat": 4,
 "nbformat_minor": 2
}
